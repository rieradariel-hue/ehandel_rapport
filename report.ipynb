{
 "cells": [
  {
   "cell_type": "markdown",
   "id": "778b7b9a",
   "metadata": {},
   "source": [
    "# Snabbrapport inför nästa kampanjperiod"
   ]
  },
  {
   "cell_type": "markdown",
   "id": "98632f76",
   "metadata": {},
   "source": [
    "Rekommendationer\n",
    "- [kommer]\n",
    "- [kommer]"
   ]
  },
  {
   "cell_type": "markdown",
   "id": "578a327b",
   "metadata": {},
   "source": [
    "Vad / när / hur\n",
    "\n",
    "+ Vad säljer? – vilka kategorier driver mest intäkt?\n",
    "+ Var säljer vi? – vilka städer står för störst intäkt?\n",
    "+ När säljer vi? – finns tidsmönster/säsong i försäljningen?\n",
    "+ Eventuella avvikelser – något oväntat mönster som sticker ut?"
   ]
  },
  {
   "cell_type": "markdown",
   "id": "7e4d2550",
   "metadata": {},
   "source": [
    "Nyckeltal\n",
    "\n",
    "- Total intäkt och totalt antal enheter\n",
    "- Intäkt per kategori\n",
    "- Intäkt per stad\n"
   ]
  },
  {
   "cell_type": "code",
   "execution_count": 4,
   "id": "f669d052",
   "metadata": {},
   "outputs": [
    {
     "name": "stdout",
     "output_type": "stream",
     "text": [
      "Data laddad: 2500 ordrar redo för analys\n"
     ]
    }
   ],
   "source": [
    "# DATA LOADING - för hela rapporten\n",
    "import sys\n",
    "import os\n",
    "sys.path.append('..')\n",
    "\n",
    "from src.io_utils import ladda_data\n",
    "\n",
    "# Ladda data en gång för alla analyser\n",
    "df = ladda_data('data/ecommerce_sales.csv')\n",
    "print(f\"Data laddad: {len(df)} ordrar redo för analys\")"
   ]
  },
  {
   "cell_type": "markdown",
   "id": "56d98c6e",
   "metadata": {},
   "source": [
    "## Top 3 bäst säljande kategorier 2024"
   ]
  },
  {
   "cell_type": "code",
   "execution_count": 5,
   "id": "3a97102d",
   "metadata": {},
   "outputs": [
    {
     "name": "stdout",
     "output_type": "stream",
     "text": [
      "Topp 3 kategorier med högst intäkt:\n",
      "Electronics: 1 364 228 SEK\n",
      "Sports: 734 653 SEK\n",
      "Clothing: 586 745 SEK\n"
     ]
    }
   ],
   "source": [
    "from src.metrics import ladda_data, get_top_3_categories\n",
    "\n",
    "top3 = get_top_3_categories(df)\n",
    "print(\"Topp 3 kategorier med högst intäkt:\")\n",
    "for category, revenue in top3.items():\n",
    "    print(f\"{category}: {int(round(revenue)):,} SEK\".replace(\",\", \" \"))\n"
   ]
  },
  {
   "cell_type": "markdown",
   "id": "ffabc3ea",
   "metadata": {},
   "source": [
    "# Denna del analyserar försäljningsdata för att ge insikter såsom:\n",
    "- Hur ser en typisk order ut? – **AOV (Average Order Value)**  \n",
    "- Spridning av ordervärden\n"
   ]
  },
  {
   "cell_type": "markdown",
   "id": "89e31c1f",
   "metadata": {},
   "source": [
    "## Genomsnittligt Ordervärde (AOV)"
   ]
  },
  {
   "cell_type": "code",
   "execution_count": 6,
   "id": "9ccf9f46",
   "metadata": {},
   "outputs": [
    {
     "name": "stdout",
     "output_type": "stream",
     "text": [
      "Genomsnittligt ordervärde: 1401.11 SEK\n"
     ]
    }
   ],
   "source": [
    "# AOV\n",
    "from src.metrics import calculate_aov\n",
    "\n",
    "aov = calculate_aov(df)\n",
    "print(f\"Genomsnittligt ordervärde: {aov:.2f} SEK\")"
   ]
  },
  {
   "cell_type": "markdown",
   "id": "a5a11b1d",
   "metadata": {},
   "source": [
    "# Spridning av Ordervärden"
   ]
  },
  {
   "cell_type": "code",
   "execution_count": 7,
   "id": "909919a4",
   "metadata": {},
   "outputs": [
    {
     "name": "stdout",
     "output_type": "stream",
     "text": [
      "Spridning:\n",
      "Median: 1088.69 SEK\n",
      "Standardavvikelse: 1166.94 SEK\n",
      "Lägsta order: 50.00 SEK\n",
      "Högsta order: 9192.60 SEK\n",
      "25e %: 577.96 SEK\n",
      "75e %: 1884.75 SEK\n"
     ]
    }
   ],
   "source": [
    "# Analysera spridningen\n",
    "import matplotlib.pyplot as plt\n",
    "\n",
    "# Grundläggande statistik\n",
    "print(\"Spridning:\")\n",
    "print(f\"Median: {df['revenue'].median():.2f} SEK\")\n",
    "print(f\"Standardavvikelse: {df['revenue'].std():.2f} SEK\")\n",
    "print(f\"Lägsta order: {df['revenue'].min():.2f} SEK\")\n",
    "print(f\"Högsta order: {df['revenue'].max():.2f} SEK\")\n",
    "\n",
    "# %:er\n",
    "print(f\"25e %: {df['revenue'].quantile(0.25):.2f} SEK\")\n",
    "print(f\"75e %: {df['revenue'].quantile(0.75):.2f} SEK\")"
   ]
  },
  {
   "cell_type": "code",
   "execution_count": 8,
   "id": "e71238f6",
   "metadata": {},
   "outputs": [
    {
     "data": {
      "image/png": "[encoded data removed]",
      "text/plain": [
       "<Figure size 640x480 with 1 Axes>"
      ]
     },
     "metadata": {},
     "output_type": "display_data"
    }
   ],
   "source": [
    "# Spridning av ordervärden\n",
    "plt.hist(df['revenue'], bins=30)\n",
    "plt.title('Ordervärden')\n",
    "plt.xlabel('SEK')\n",
    "plt.ylabel('Antal ordrar')\n",
    "plt.show()"
   ]
  },
  {
   "cell_type": "markdown",
   "id": "5894f3f7",
   "metadata": {},
   "source": [
    "# Insikter\n",
    "- Kunder handlar i genomsnitt för **1400 SEK** per order\n",
    "- Majoriteten av ordrar ligger mellan **500 - 2500 SEK**\n",
    "- Få kunder handlar för mycket höga eller låga belopp"
   ]
  }
 ],
 "metadata": {
  "kernelspec": {
   "display_name": ".venv",
   "language": "python",
   "name": "python3"
  },
  "language_info": {
   "codemirror_mode": {
    "name": "ipython",
    "version": 3
   },
   "file_extension": ".py",
   "mimetype": "text/x-python",
   "name": "python",
   "nbconvert_exporter": "python",
   "pygments_lexer": "ipython3",
   "version": "3.13.3"
  }
 },
 "nbformat": 4,
 "nbformat_minor": 5
}
