{
 "cells": [
  {
   "cell_type": "markdown",
   "id": "778b7b9a",
   "metadata": {},
   "source": [
    "# Snabbrapport inför nästa kampanjperiod"
   ]
  },
  {
   "cell_type": "markdown",
   "id": "98632f76",
   "metadata": {},
   "source": [
    "Rekommendationer\n",
    "- [kommer]\n",
    "- [kommer]"
   ]
  },
  {
   "cell_type": "markdown",
   "id": "578a327b",
   "metadata": {},
   "source": [
    "Vad / när / hur\n",
    "\n",
    "+ Vad säljer? – vilka kategorier driver mest intäkt?\n",
    "+ Var säljer vi? – vilka städer står för störst intäkt?\n",
    "+ När säljer vi? – finns tidsmönster/säsong i försäljningen?\n",
    "+ Hur ser en typisk order ut? – AOV (Average Order Value) och spridning.\n",
    "+ Topp-listor – topp-3 kategorier efter intäkt.\n",
    "+ Eventuella avvikelser – något oväntat mönster som sticker ut?"
   ]
  },
  {
   "cell_type": "markdown",
   "id": "7e4d2550",
   "metadata": {},
   "source": [
    "Nyckeltal\n",
    "\n",
    "- Total intäkt och totalt antal enheter\n",
    "- AOV (Average Order Value)\n",
    "- Intäkt per kategori\n",
    "- Intäkt per stad\n",
    "- Top-3 kategorier efter intäkt\n"
   ]
  },
  {
   "cell_type": "code",
   "execution_count": null,
   "id": "073ace35",
   "metadata": {},
   "outputs": [],
   "source": []
  }
 ],
 "metadata": {
  "kernelspec": {
   "display_name": "Python 3",
   "language": "python",
   "name": "python3"
  },
  "language_info": {
   "name": "python",
   "version": "3.13.7"
  }
 },
 "nbformat": 4,
 "nbformat_minor": 5
}
