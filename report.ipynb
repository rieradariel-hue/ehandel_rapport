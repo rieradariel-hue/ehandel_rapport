{
 "cells": [
  {
   "cell_type": "markdown",
   "id": "778b7b9a",
   "metadata": {},
   "source": [
    "# Snabbrapport inför nästa kampanjperiod"
   ]
  },
  {
   "cell_type": "markdown",
   "id": "98632f76",
   "metadata": {},
   "source": [
    "Rekommendationer\n",
    "- [kommer]\n",
    "- [kommer]"
   ]
  },
  {
   "cell_type": "markdown",
   "id": "578a327b",
   "metadata": {},
   "source": [
    "Vad / när / hur\n",
    "\n",
    "+ Vad säljer? – vilka kategorier driver mest intäkt?\n",
    "+ Var säljer vi? – vilka städer står för störst intäkt?\n",
    "+ När säljer vi? – finns tidsmönster/säsong i försäljningen?\n",
    "+ Eventuella avvikelser – något oväntat mönster som sticker ut?"
   ]
  },
  {
   "cell_type": "markdown",
   "id": "7e4d2550",
   "metadata": {},
   "source": [
    "Nyckeltal\n",
    "\n",
    "- Total intäkt och totalt antal enheter\n",
    "- Intäkt per kategori\n",
    "- Intäkt per stad\n"
   ]
  },
  {
   "cell_type": "code",
   "execution_count": null,
   "id": "f669d052",
   "metadata": {},
   "outputs": [],
   "source": [
    "# DATA LOADING - för hela rapporten\n",
    "import sys\n",
    "import os\n",
    "sys.path.append('..')\n",
    "\n",
    "from src.io_utils import ladda_data\n",
    "\n",
    "# Ladda data en gång för alla analyser\n",
    "df = ladda_data('data/ecommerce_sales.csv')\n",
    "print(f\"Data laddad: {len(df)} ordrar redo för analys\")"
   ]
  },
  {
   "cell_type": "markdown",
   "id": "56d98c6e",
   "metadata": {},
   "source": [
    "## Top 3 bäst säljande kategorier 2024"
   ]
  },
  {
   "cell_type": "code",
   "execution_count": null,
   "id": "3a97102d",
   "metadata": {},
   "outputs": [],
   "source": [
    "from src.metrics import ladda_data, get_top_3_categories\n",
    "\n",
    "top3 = get_top_3_categories(df)\n",
    "print(\"Topp 3 kategorier med högst intäkt:\")\n",
    "for category, revenue in top3.items():\n",
    "    print(f\"{category}: {int(round(revenue)):,} SEK\".replace(\",\", \" \"))\n"
   ]
  },
  {
   "cell_type": "markdown",
   "id": "ffabc3ea",
   "metadata": {},
   "source": [
    "# Denna del analyserar försäljningsdata för att ge insikter såsom:\n",
    "- Hur ser en typisk order ut? – **AOV (Average Order Value)**  \n",
    "- Spridning av ordervärden\n"
   ]
  },
  {
   "cell_type": "markdown",
   "id": "89e31c1f",
   "metadata": {},
   "source": [
    "## Genomsnittligt Ordervärde (AOV)"
   ]
  },
  {
   "cell_type": "code",
   "execution_count": null,
   "id": "9ccf9f46",
   "metadata": {},
   "outputs": [],
   "source": [
    "# AOV\n",
    "from src.metrics import calculate_aov\n",
    "\n",
    "aov = calculate_aov(df)\n",
    "print(f\"Genomsnittligt ordervärde: {aov:.2f} SEK\")"
   ]
  },
  {
   "cell_type": "markdown",
   "id": "a5a11b1d",
   "metadata": {},
   "source": [
    "# Spridning av Ordervärden"
   ]
  },
  {
   "cell_type": "code",
   "execution_count": null,
   "id": "909919a4",
   "metadata": {},
   "outputs": [],
   "source": [
    "# Analysera spridningen\n",
    "import matplotlib.pyplot as plt\n",
    "\n",
    "# Grundläggande statistik\n",
    "print(\"Spridning:\")\n",
    "print(f\"Median: {df['revenue'].median():.2f} SEK\")\n",
    "print(f\"Standardavvikelse: {df['revenue'].std():.2f} SEK\")\n",
    "print(f\"Lägsta order: {df['revenue'].min():.2f} SEK\")\n",
    "print(f\"Högsta order: {df['revenue'].max():.2f} SEK\")\n",
    "\n",
    "# %:er\n",
    "print(f\"25e %: {df['revenue'].quantile(0.25):.2f} SEK\")\n",
    "print(f\"75e %: {df['revenue'].quantile(0.75):.2f} SEK\")"
   ]
  },
  {
   "cell_type": "code",
   "execution_count": null,
   "id": "e71238f6",
   "metadata": {},
   "outputs": [],
   "source": [
    "# Spridning av ordervärden\n",
    "plt.hist(df['revenue'], bins=30)\n",
    "plt.title('Ordervärden')\n",
    "plt.xlabel('SEK')\n",
    "plt.ylabel('Antal ordrar')\n",
    "plt.show()"
   ]
  },
  {
   "cell_type": "markdown",
   "id": "5894f3f7",
   "metadata": {},
   "source": [
    "# Insikter\n",
    "- Kunder handlar i genomsnitt för **1400 SEK** per order\n",
    "- Majoriteten av ordrar ligger mellan **500 - 2500 SEK**\n",
    "- Få kunder handlar för mycket höga eller låga belopp"
   ]
  },
  {
   "cell_type": "markdown",
   "id": "380e3dc9",
   "metadata": {},
   "source": [
    "# city sales analys"
   ]
  },
  {
   "cell_type": "code",
   "execution_count": 2,
   "id": "a254da81",
   "metadata": {},
   "outputs": [
    {
     "name": "stdout",
     "output_type": "stream",
     "text": [
      "['Stockholm', 'Malmö', 'Uppsala', 'Göteborg', 'Västerås']\n"
     ]
    }
   ],
   "source": [
    "from src.io_utils import ladda_data\n",
    "\n",
    "df = ladda_data(\"data/ecommerce_sales.csv\")\n",
    "\n",
    "sales_cities = df['city'].to_list()\n",
    "\n",
    "unique_cities = []\n",
    "\n",
    "# Loop through and add only new cities\n",
    "for city in sales_cities:\n",
    "    if city not in unique_cities:\n",
    "        unique_cities.append(city)\n",
    "\n",
    "\n",
    "print(unique_cities) \n"
   ]
  },
  {
   "cell_type": "code",
   "execution_count": 1,
   "id": "f9f9159a",
   "metadata": {},
   "outputs": [
    {
     "name": "stdout",
     "output_type": "stream",
     "text": [
      "Total sales per city:\n",
      "Stockholm: 1,227,201.94 SEK\n",
      "Göteborg: 859,019.65 SEK\n",
      "Malmö: 567,926.32 SEK\n",
      "Uppsala: 551,478.42 SEK\n",
      "Västerås: 297,140.90 SEK\n",
      "The city with the highest total sales is Stockholm with total revenue of  1227201.94 SEK\n"
     ]
    },
    {
     "data": {
      "image/png": "[encoded data removed]",
      "text/plain": [
       "<Figure size 1000x600 with 1 Axes>"
      ]
     },
     "metadata": {},
     "output_type": "display_data"
    }
   ],
   "source": [
    "\n",
    "import matplotlib.pyplot as plt\n",
    "from src.io_utils import ladda_data\n",
    "\n",
    "\n",
    "df = ladda_data(\"data/ecommerce_sales.csv\")\n",
    "\n",
    "\n",
    "\n",
    "city_sales = df.groupby('city')['revenue'].sum().sort_values(ascending=False) # kaggle.com\n",
    "\n",
    "print(\"Total sales per city:\")\n",
    "\n",
    "for city, sales in city_sales.items():\n",
    "    print(f\"{city}: {sales:,.2f} SEK\")\n",
    "\n",
    "\n",
    "\n",
    "max_city = city_sales.idxmax()\n",
    "max_sales = city_sales.max()\n",
    "print(f\"The city with the highest total sales is {max_city} with total revenue of {max_sales: .2f} SEK\")\n",
    "\n",
    "\n",
    "plt.figure(figsize=(10,6))\n",
    "plt.bar(city_sales.index, city_sales.values, color='blue', edgecolor='black')\n",
    "plt.xticks(rotation=45)\n",
    "plt.xlabel('Stad')\n",
    "plt.ylabel('Total försäljning')\n",
    "plt.title('Total försäljning per stad')\n",
    "plt.show()"
   ]
  }
 ],
 "metadata": {
  "kernelspec": {
   "display_name": ".venv",
   "language": "python",
   "name": "python3"
  },
  "language_info": {
   "codemirror_mode": {
    "name": "ipython",
    "version": 3
   },
   "file_extension": ".py",
   "mimetype": "text/x-python",
   "name": "python",
   "nbconvert_exporter": "python",
   "pygments_lexer": "ipython3",
   "version": "3.12.1"
  }
 },
 "nbformat": 4,
 "nbformat_minor": 5
}
